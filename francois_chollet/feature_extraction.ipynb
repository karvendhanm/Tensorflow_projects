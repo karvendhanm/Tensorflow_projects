{
 "cells": [
  {
   "cell_type": "code",
   "execution_count": 1,
   "outputs": [],
   "source": [
    "from IPython.core.interactiveshell import InteractiveShell\n",
    "InteractiveShell.ast_node_interactivity = \"all\""
   ],
   "metadata": {
    "collapsed": false,
    "ExecuteTime": {
     "end_time": "2023-08-18T01:34:34.339244685Z",
     "start_time": "2023-08-18T01:34:34.295195729Z"
    }
   },
   "id": "1cd4e3059c48bcbb"
  },
  {
   "cell_type": "code",
   "execution_count": 2,
   "id": "initial_id",
   "metadata": {
    "collapsed": true,
    "ExecuteTime": {
     "end_time": "2023-08-18T01:34:35.051366200Z",
     "start_time": "2023-08-18T01:34:34.339141809Z"
    }
   },
   "outputs": [
    {
     "name": "stderr",
     "output_type": "stream",
     "text": [
      "2023-08-18 07:04:34.352346: I tensorflow/core/platform/cpu_feature_guard.cc:193] This TensorFlow binary is optimized with oneAPI Deep Neural Network Library (oneDNN) to use the following CPU instructions in performance-critical operations:  AVX2 AVX_VNNI FMA\n",
      "To enable them in other operations, rebuild TensorFlow with the appropriate compiler flags.\n",
      "2023-08-18 07:04:34.430182: I tensorflow/core/util/util.cc:169] oneDNN custom operations are on. You may see slightly different numerical results due to floating-point round-off errors from different computation orders. To turn them off, set the environment variable `TF_ENABLE_ONEDNN_OPTS=0`.\n",
      "2023-08-18 07:04:34.446954: E tensorflow/stream_executor/cuda/cuda_blas.cc:2981] Unable to register cuBLAS factory: Attempting to register factory for plugin cuBLAS when one has already been registered\n",
      "2023-08-18 07:04:34.731693: W tensorflow/stream_executor/platform/default/dso_loader.cc:64] Could not load dynamic library 'libnvinfer.so.7'; dlerror: libnvinfer.so.7: cannot open shared object file: No such file or directory; LD_LIBRARY_PATH: /home/karvsmech/miniconda3/envs/tf/lib/:/home/karvsmech/miniconda3/envs/tf/lib/python3.9/site-packages/nvidia/cudnn/lib:\n",
      "2023-08-18 07:04:34.731731: W tensorflow/stream_executor/platform/default/dso_loader.cc:64] Could not load dynamic library 'libnvinfer_plugin.so.7'; dlerror: libnvinfer_plugin.so.7: cannot open shared object file: No such file or directory; LD_LIBRARY_PATH: /home/karvsmech/miniconda3/envs/tf/lib/:/home/karvsmech/miniconda3/envs/tf/lib/python3.9/site-packages/nvidia/cudnn/lib:\n",
      "2023-08-18 07:04:34.731735: W tensorflow/compiler/tf2tensorrt/utils/py_utils.cc:38] TF-TRT Warning: Cannot dlopen some TensorRT libraries. If you would like to use Nvidia GPU with TensorRT, please make sure the missing libraries mentioned above are installed properly.\n"
     ]
    }
   ],
   "source": [
    "# feature extraction, creating models that reuse intermediate features from another model.\n",
    "\n",
    "import numpy as np\n",
    "import tensorflow as tf\n",
    "\n",
    "from tensorflow import keras\n",
    "from tensorflow.keras import layers"
   ]
  },
  {
   "cell_type": "code",
   "execution_count": 3,
   "outputs": [],
   "source": [
    "vocabulary_size = 10000\n",
    "num_tags = 100\n",
    "num_department = 4"
   ],
   "metadata": {
    "collapsed": false,
    "ExecuteTime": {
     "end_time": "2023-08-18T01:34:35.054647461Z",
     "start_time": "2023-08-18T01:34:35.052117868Z"
    }
   },
   "id": "3dc6b2ba8f3fd318"
  },
  {
   "cell_type": "code",
   "execution_count": 4,
   "outputs": [
    {
     "name": "stderr",
     "output_type": "stream",
     "text": [
      "2023-08-18 07:04:35.122120: I tensorflow/stream_executor/cuda/cuda_gpu_executor.cc:980] successful NUMA node read from SysFS had negative value (-1), but there must be at least one NUMA node, so returning NUMA node zero\n",
      "2023-08-18 07:04:35.126863: I tensorflow/stream_executor/cuda/cuda_gpu_executor.cc:980] successful NUMA node read from SysFS had negative value (-1), but there must be at least one NUMA node, so returning NUMA node zero\n",
      "2023-08-18 07:04:35.126968: I tensorflow/stream_executor/cuda/cuda_gpu_executor.cc:980] successful NUMA node read from SysFS had negative value (-1), but there must be at least one NUMA node, so returning NUMA node zero\n",
      "2023-08-18 07:04:35.127598: I tensorflow/core/platform/cpu_feature_guard.cc:193] This TensorFlow binary is optimized with oneAPI Deep Neural Network Library (oneDNN) to use the following CPU instructions in performance-critical operations:  AVX2 AVX_VNNI FMA\n",
      "To enable them in other operations, rebuild TensorFlow with the appropriate compiler flags.\n",
      "2023-08-18 07:04:35.128878: I tensorflow/stream_executor/cuda/cuda_gpu_executor.cc:980] successful NUMA node read from SysFS had negative value (-1), but there must be at least one NUMA node, so returning NUMA node zero\n",
      "2023-08-18 07:04:35.129003: I tensorflow/stream_executor/cuda/cuda_gpu_executor.cc:980] successful NUMA node read from SysFS had negative value (-1), but there must be at least one NUMA node, so returning NUMA node zero\n",
      "2023-08-18 07:04:35.129090: I tensorflow/stream_executor/cuda/cuda_gpu_executor.cc:980] successful NUMA node read from SysFS had negative value (-1), but there must be at least one NUMA node, so returning NUMA node zero\n",
      "2023-08-18 07:04:35.519548: I tensorflow/stream_executor/cuda/cuda_gpu_executor.cc:980] successful NUMA node read from SysFS had negative value (-1), but there must be at least one NUMA node, so returning NUMA node zero\n",
      "2023-08-18 07:04:35.519658: I tensorflow/stream_executor/cuda/cuda_gpu_executor.cc:980] successful NUMA node read from SysFS had negative value (-1), but there must be at least one NUMA node, so returning NUMA node zero\n",
      "2023-08-18 07:04:35.519708: I tensorflow/stream_executor/cuda/cuda_gpu_executor.cc:980] successful NUMA node read from SysFS had negative value (-1), but there must be at least one NUMA node, so returning NUMA node zero\n",
      "2023-08-18 07:04:35.519765: I tensorflow/core/common_runtime/gpu/gpu_device.cc:1616] Created device /job:localhost/replica:0/task:0/device:GPU:0 with 9679 MB memory:  -> device: 0, name: NVIDIA GeForce RTX 3060, pci bus id: 0000:01:00.0, compute capability: 8.6\n"
     ]
    }
   ],
   "source": [
    "# building input symbolic tensors for 3 inputs using functional API\n",
    "title = keras.Input(shape=(vocabulary_size), name='title')\n",
    "text_body = keras.Input(shape=(vocabulary_size), name='text_body')\n",
    "tags = keras.Input(shape=(num_tags), name='tags')\n",
    "\n",
    "# concatenationg the layers\n",
    "features = layers.Concatenate()([title, text_body, tags])\n",
    "features = layers.Dense(64, activation='relu')(features)\n",
    "\n",
    "# creating 2 output layers\n",
    "priority = layers.Dense(1, activation='sigmoid', name='priority')(features)\n",
    "department = layers.Dense(num_department, activation='softmax', name='department')(features)\n",
    "model = keras.Model(inputs=[title, text_body, tags], outputs=[priority, department])"
   ],
   "metadata": {
    "collapsed": false,
    "ExecuteTime": {
     "end_time": "2023-08-18T01:34:35.654239054Z",
     "start_time": "2023-08-18T01:34:35.054352513Z"
    }
   },
   "id": "b0987fb7f408efbe"
  },
  {
   "cell_type": "code",
   "execution_count": 5,
   "outputs": [
    {
     "name": "stdout",
     "output_type": "stream",
     "text": [
      "Model: \"model\"\n",
      "__________________________________________________________________________________________________\n",
      " Layer (type)                   Output Shape         Param #     Connected to                     \n",
      "==================================================================================================\n",
      " title (InputLayer)             [(None, 10000)]      0           []                               \n",
      "                                                                                                  \n",
      " text_body (InputLayer)         [(None, 10000)]      0           []                               \n",
      "                                                                                                  \n",
      " tags (InputLayer)              [(None, 100)]        0           []                               \n",
      "                                                                                                  \n",
      " concatenate (Concatenate)      (None, 20100)        0           ['title[0][0]',                  \n",
      "                                                                  'text_body[0][0]',              \n",
      "                                                                  'tags[0][0]']                   \n",
      "                                                                                                  \n",
      " dense (Dense)                  (None, 64)           1286464     ['concatenate[0][0]']            \n",
      "                                                                                                  \n",
      " priority (Dense)               (None, 1)            65          ['dense[0][0]']                  \n",
      "                                                                                                  \n",
      " department (Dense)             (None, 4)            260         ['dense[0][0]']                  \n",
      "                                                                                                  \n",
      "==================================================================================================\n",
      "Total params: 1,286,789\n",
      "Trainable params: 1,286,789\n",
      "Non-trainable params: 0\n",
      "__________________________________________________________________________________________________\n"
     ]
    }
   ],
   "source": [
    "# printing model summary\n",
    "model.summary()"
   ],
   "metadata": {
    "collapsed": false,
    "ExecuteTime": {
     "end_time": "2023-08-18T01:34:35.699870669Z",
     "start_time": "2023-08-18T01:34:35.639109359Z"
    }
   },
   "id": "8a100179493ae96f"
  },
  {
   "cell_type": "code",
   "execution_count": 6,
   "outputs": [
    {
     "data": {
      "text/plain": "[<keras.engine.input_layer.InputLayer at 0x7f5937717460>,\n <keras.engine.input_layer.InputLayer at 0x7f5937717400>,\n <keras.engine.input_layer.InputLayer at 0x7f5937719a30>,\n <keras.layers.merging.concatenate.Concatenate at 0x7f5937719eb0>,\n <keras.layers.core.dense.Dense at 0x7f593770ae50>,\n <keras.layers.core.dense.Dense at 0x7f59ac59c700>,\n <keras.layers.core.dense.Dense at 0x7f59ac5bb820>]"
     },
     "execution_count": 6,
     "metadata": {},
     "output_type": "execute_result"
    }
   ],
   "source": [
    "# getting the layers involved in the model as a list.\n",
    "model.layers"
   ],
   "metadata": {
    "collapsed": false,
    "ExecuteTime": {
     "end_time": "2023-08-18T01:34:35.700266019Z",
     "start_time": "2023-08-18T01:34:35.676516465Z"
    }
   },
   "id": "63ee8ec7ed27ca6e"
  },
  {
   "cell_type": "code",
   "execution_count": 7,
   "outputs": [
    {
     "name": "stdout",
     "output_type": "stream",
     "text": [
      "first layer Input and Output\n"
     ]
    },
    {
     "data": {
      "text/plain": "<KerasTensor: shape=(None, 10000) dtype=float32 (created by layer 'title')>"
     },
     "execution_count": 7,
     "metadata": {},
     "output_type": "execute_result"
    },
    {
     "data": {
      "text/plain": "<KerasTensor: shape=(None, 10000) dtype=float32 (created by layer 'title')>"
     },
     "execution_count": 7,
     "metadata": {},
     "output_type": "execute_result"
    },
    {
     "name": "stdout",
     "output_type": "stream",
     "text": [
      "Second layer Input and Output\n"
     ]
    },
    {
     "data": {
      "text/plain": "<KerasTensor: shape=(None, 10000) dtype=float32 (created by layer 'text_body')>"
     },
     "execution_count": 7,
     "metadata": {},
     "output_type": "execute_result"
    },
    {
     "data": {
      "text/plain": "<KerasTensor: shape=(None, 10000) dtype=float32 (created by layer 'text_body')>"
     },
     "execution_count": 7,
     "metadata": {},
     "output_type": "execute_result"
    },
    {
     "name": "stdout",
     "output_type": "stream",
     "text": [
      "Third layer Input and Output\n"
     ]
    },
    {
     "data": {
      "text/plain": "<KerasTensor: shape=(None, 100) dtype=float32 (created by layer 'tags')>"
     },
     "execution_count": 7,
     "metadata": {},
     "output_type": "execute_result"
    },
    {
     "data": {
      "text/plain": "<KerasTensor: shape=(None, 100) dtype=float32 (created by layer 'tags')>"
     },
     "execution_count": 7,
     "metadata": {},
     "output_type": "execute_result"
    },
    {
     "name": "stdout",
     "output_type": "stream",
     "text": [
      "Fourth layer Input and Output\n"
     ]
    },
    {
     "data": {
      "text/plain": "[<KerasTensor: shape=(None, 10000) dtype=float32 (created by layer 'title')>,\n <KerasTensor: shape=(None, 10000) dtype=float32 (created by layer 'text_body')>,\n <KerasTensor: shape=(None, 100) dtype=float32 (created by layer 'tags')>]"
     },
     "execution_count": 7,
     "metadata": {},
     "output_type": "execute_result"
    },
    {
     "data": {
      "text/plain": "<KerasTensor: shape=(None, 20100) dtype=float32 (created by layer 'concatenate')>"
     },
     "execution_count": 7,
     "metadata": {},
     "output_type": "execute_result"
    },
    {
     "name": "stdout",
     "output_type": "stream",
     "text": [
      "Fifth layer Input and Output\n"
     ]
    },
    {
     "data": {
      "text/plain": "<KerasTensor: shape=(None, 20100) dtype=float32 (created by layer 'concatenate')>"
     },
     "execution_count": 7,
     "metadata": {},
     "output_type": "execute_result"
    },
    {
     "data": {
      "text/plain": "<KerasTensor: shape=(None, 64) dtype=float32 (created by layer 'dense')>"
     },
     "execution_count": 7,
     "metadata": {},
     "output_type": "execute_result"
    },
    {
     "name": "stdout",
     "output_type": "stream",
     "text": [
      "Sixth layer Input and Output\n"
     ]
    },
    {
     "data": {
      "text/plain": "<KerasTensor: shape=(None, 64) dtype=float32 (created by layer 'dense')>"
     },
     "execution_count": 7,
     "metadata": {},
     "output_type": "execute_result"
    },
    {
     "data": {
      "text/plain": "<KerasTensor: shape=(None, 1) dtype=float32 (created by layer 'priority')>"
     },
     "execution_count": 7,
     "metadata": {},
     "output_type": "execute_result"
    },
    {
     "name": "stdout",
     "output_type": "stream",
     "text": [
      "Seventh layer Input and Output\n"
     ]
    },
    {
     "data": {
      "text/plain": "<KerasTensor: shape=(None, 64) dtype=float32 (created by layer 'dense')>"
     },
     "execution_count": 7,
     "metadata": {},
     "output_type": "execute_result"
    },
    {
     "data": {
      "text/plain": "<KerasTensor: shape=(None, 4) dtype=float32 (created by layer 'department')>"
     },
     "execution_count": 7,
     "metadata": {},
     "output_type": "execute_result"
    }
   ],
   "source": [
    "# checking the input and output of each layers\n",
    "layers_lst = model.layers\n",
    "\n",
    "# first layer (Input pass through layer)\n",
    "print('first layer Input and Output')\n",
    "layers_lst[0].input\n",
    "layers_lst[0].output\n",
    "\n",
    "# second layer (Input pass through layer)\n",
    "print('Second layer Input and Output')\n",
    "layers_lst[1].input\n",
    "layers_lst[1].output\n",
    "\n",
    "# third layer (Input pass through layer)\n",
    "print('Third layer Input and Output')\n",
    "layers_lst[2].input\n",
    "layers_lst[2].output\n",
    "\n",
    "# fourth layer\n",
    "print('Fourth layer Input and Output')\n",
    "layers_lst[3].input\n",
    "layers_lst[3].output\n",
    "\n",
    "# fifth layer\n",
    "print('Fifth layer Input and Output')\n",
    "layers_lst[4].input\n",
    "layers_lst[4].output\n",
    "\n",
    "# sixth layer\n",
    "print('Sixth layer Input and Output')\n",
    "layers_lst[5].input\n",
    "layers_lst[5].output\n",
    "\n",
    "# seventh layer\n",
    "print('Seventh layer Input and Output')\n",
    "layers_lst[6].input\n",
    "layers_lst[6].output"
   ],
   "metadata": {
    "collapsed": false,
    "ExecuteTime": {
     "end_time": "2023-08-18T01:34:35.701136954Z",
     "start_time": "2023-08-18T01:34:35.676603671Z"
    }
   },
   "id": "38df4fa7009d59a"
  },
  {
   "cell_type": "code",
   "execution_count": 8,
   "outputs": [],
   "source": [
    "# creating random data to feed into the model\n",
    "num_samples = 1280\n",
    "\n",
    "title_data = np.random.randint(0, 2, size=(num_samples, vocabulary_size))\n",
    "text_body_data = np.random.randint(0, 2, size=(num_samples, vocabulary_size))\n",
    "tags_data = np.random.randint(0, 2, size=(num_samples, num_tags))\n",
    "\n",
    "priority_data = np.random.random(size=(num_samples, 1))\n",
    "department_data = np.random.randint(0, 2, size=(num_samples, num_department))"
   ],
   "metadata": {
    "collapsed": false,
    "ExecuteTime": {
     "end_time": "2023-08-18T01:34:35.798280125Z",
     "start_time": "2023-08-18T01:34:35.677564414Z"
    }
   },
   "id": "9b87f96e3909449a"
  },
  {
   "cell_type": "code",
   "execution_count": 12,
   "outputs": [
    {
     "name": "stdout",
     "output_type": "stream",
     "text": [
      "40/40 [==============================] - 0s 3ms/step - loss: 137.6099 - priority_loss: 0.3317 - department_loss: 137.2782 - priority_mean_absolute_error: 0.4979 - department_accuracy: 0.2672\n"
     ]
    },
    {
     "data": {
      "text/plain": "<keras.callbacks.History at 0x7f59203afdf0>"
     },
     "execution_count": 12,
     "metadata": {},
     "output_type": "execute_result"
    },
    {
     "name": "stdout",
     "output_type": "stream",
     "text": [
      "40/40 [==============================] - 0s 2ms/step - loss: 148.6072 - priority_loss: 0.3317 - department_loss: 148.2754 - priority_mean_absolute_error: 0.4979 - department_accuracy: 0.2688\n"
     ]
    },
    {
     "data": {
      "text/plain": "[148.60716247558594,\n 0.3317476809024811,\n 148.2754364013672,\n 0.49793606996536255,\n 0.26875001192092896]"
     },
     "execution_count": 12,
     "metadata": {},
     "output_type": "execute_result"
    },
    {
     "name": "stdout",
     "output_type": "stream",
     "text": [
      "40/40 [==============================] - 0s 2ms/step\n"
     ]
    },
    {
     "data": {
      "text/plain": "[array([[0.],\n        [0.],\n        [0.],\n        ...,\n        [0.],\n        [0.],\n        [0.]], dtype=float32),\n array([[3.1109864e-25, 1.0000000e+00, 0.0000000e+00, 0.0000000e+00],\n        [6.6266392e-23, 1.0000000e+00, 0.0000000e+00, 0.0000000e+00],\n        [9.2154120e-25, 1.0000000e+00, 0.0000000e+00, 0.0000000e+00],\n        ...,\n        [7.1780418e-24, 1.0000000e+00, 0.0000000e+00, 0.0000000e+00],\n        [1.7731159e-23, 1.0000000e+00, 0.0000000e+00, 0.0000000e+00],\n        [6.2317375e-29, 1.0000000e+00, 0.0000000e+00, 0.0000000e+00]],\n       dtype=float32)]"
     },
     "execution_count": 12,
     "metadata": {},
     "output_type": "execute_result"
    }
   ],
   "source": [
    "# choosing optimizer, loss function and metrics and training the model.\n",
    "model.compile(optimizer='rmsprop', loss=['mean_squared_error', 'categorical_crossentropy'], metrics=[['mean_absolute_error'], ['accuracy']])\n",
    "model.fit(x=[title_data, text_body_data, tags_data], y=[priority_data, department_data], epochs=1)\n",
    "model.evaluate(x=[title_data, text_body_data, tags_data], y=[priority_data, department_data])\n",
    "model.predict([title_data, text_body_data, tags_data])"
   ],
   "metadata": {
    "collapsed": false,
    "ExecuteTime": {
     "end_time": "2023-08-18T01:36:09.045092953Z",
     "start_time": "2023-08-18T01:36:08.039132839Z"
    }
   },
   "id": "70690ebd34fa3e0d"
  },
  {
   "cell_type": "code",
   "execution_count": 13,
   "outputs": [
    {
     "name": "stdout",
     "output_type": "stream",
     "text": [
      "40/40 [==============================] - 0s 3ms/step - loss: 158.9307 - priority_loss: 0.3317 - department_loss: 158.5989 - priority_mean_absolute_error: 0.4979 - department_accuracy: 0.2461\n"
     ]
    },
    {
     "data": {
      "text/plain": "<keras.callbacks.History at 0x7f59283c4100>"
     },
     "execution_count": 13,
     "metadata": {},
     "output_type": "execute_result"
    },
    {
     "name": "stdout",
     "output_type": "stream",
     "text": [
      "40/40 [==============================] - 0s 2ms/step - loss: 113.1920 - priority_loss: 0.3317 - department_loss: 112.8602 - priority_mean_absolute_error: 0.4979 - department_accuracy: 0.2688\n"
     ]
    },
    {
     "data": {
      "text/plain": "[113.1920166015625,\n 0.3317476809024811,\n 112.86024475097656,\n 0.49793606996536255,\n 0.26875001192092896]"
     },
     "execution_count": 13,
     "metadata": {},
     "output_type": "execute_result"
    },
    {
     "name": "stdout",
     "output_type": "stream",
     "text": [
      "40/40 [==============================] - 0s 2ms/step\n"
     ]
    },
    {
     "data": {
      "text/plain": "[array([[0.],\n        [0.],\n        [0.],\n        ...,\n        [0.],\n        [0.],\n        [0.]], dtype=float32),\n array([[3.1074266e-31, 9.9975079e-01, 0.0000000e+00, 2.4923254e-04],\n        [5.9356299e-28, 9.9999678e-01, 0.0000000e+00, 3.2251392e-06],\n        [5.4337151e-31, 9.9998522e-01, 0.0000000e+00, 1.4738980e-05],\n        ...,\n        [5.9338763e-30, 9.9999988e-01, 0.0000000e+00, 9.1848520e-08],\n        [2.8919407e-30, 1.0000000e+00, 0.0000000e+00, 2.6110261e-08],\n        [2.0736274e-34, 1.0000000e+00, 0.0000000e+00, 1.6531986e-08]],\n       dtype=float32)]"
     },
     "execution_count": 13,
     "metadata": {},
     "output_type": "execute_result"
    }
   ],
   "source": [
    "# instead of the following the right order, using names\n",
    "model.compile(optimizer='rmsprop', loss={'priority':'mean_squared_error', 'department':'categorical_crossentropy'}, metrics={'priority':['mean_absolute_error'], 'department':['accuracy']})\n",
    "model.fit(x={'title':title_data, 'text_body':text_body_data, 'tags':tags_data}, y={'priority':priority_data, 'department':department_data}, epochs=1)\n",
    "model.evaluate(x={'title':title_data, 'text_body':text_body_data, 'tags':tags_data}, y={'priority':priority_data, 'department':department_data})\n",
    "model.predict(x={'title':title_data, 'text_body':text_body_data, 'tags':tags_data})"
   ],
   "metadata": {
    "collapsed": false,
    "ExecuteTime": {
     "end_time": "2023-08-18T01:42:52.799257683Z",
     "start_time": "2023-08-18T01:42:51.841658950Z"
    }
   },
   "id": "c78362d281b05fd2"
  },
  {
   "cell_type": "code",
   "execution_count": 14,
   "outputs": [
    {
     "data": {
      "image/png": "[encoded data removed]",
      "text/plain": "<IPython.core.display.Image object>"
     },
     "execution_count": 14,
     "metadata": {},
     "output_type": "execute_result"
    }
   ],
   "source": [
    "keras.utils.plot_model(model, 'ticket_classifier.png')"
   ],
   "metadata": {
    "collapsed": false,
    "ExecuteTime": {
     "end_time": "2023-08-18T01:43:43.815058716Z",
     "start_time": "2023-08-18T01:43:43.697197131Z"
    }
   },
   "id": "2808efb94e6abdf5"
  },
  {
   "cell_type": "code",
   "execution_count": 15,
   "outputs": [
    {
     "data": {
      "image/png": "[encoded data removed]",
      "text/plain": "<IPython.core.display.Image object>"
     },
     "execution_count": 15,
     "metadata": {},
     "output_type": "execute_result"
    }
   ],
   "source": [
    "keras.utils.plot_model(model, 'ticket_classifier_with_shape_info.png', show_shapes=True)"
   ],
   "metadata": {
    "collapsed": false,
    "ExecuteTime": {
     "end_time": "2023-08-18T01:44:54.903641679Z",
     "start_time": "2023-08-18T01:44:54.789364061Z"
    }
   },
   "id": "ab8e4047f74704e3"
  },
  {
   "cell_type": "code",
   "execution_count": null,
   "outputs": [],
   "source": [],
   "metadata": {
    "collapsed": false
   },
   "id": "3573aaa3a4aae094"
  },
  {
   "cell_type": "code",
   "execution_count": null,
   "outputs": [],
   "source": [],
   "metadata": {
    "collapsed": false
   },
   "id": "f2ca1d32f3679409"
  },
  {
   "cell_type": "code",
   "execution_count": null,
   "outputs": [],
   "source": [],
   "metadata": {
    "collapsed": false
   },
   "id": "f8e48965854a4b66"
  },
  {
   "cell_type": "code",
   "execution_count": null,
   "outputs": [],
   "source": [],
   "metadata": {
    "collapsed": false
   },
   "id": "c17b1763228493f2"
  },
  {
   "cell_type": "code",
   "execution_count": null,
   "outputs": [],
   "source": [],
   "metadata": {
    "collapsed": false
   },
   "id": "332e95daa5698636"
  },
  {
   "cell_type": "code",
   "execution_count": null,
   "outputs": [],
   "source": [],
   "metadata": {
    "collapsed": false
   },
   "id": "32a5c2c2b2f08e30"
  },
  {
   "cell_type": "code",
   "execution_count": null,
   "outputs": [],
   "source": [],
   "metadata": {
    "collapsed": false
   },
   "id": "a041cf904e89aeca"
  },
  {
   "cell_type": "code",
   "execution_count": null,
   "outputs": [],
   "source": [],
   "metadata": {
    "collapsed": false
   },
   "id": "ed66df35b60fe254"
  },
  {
   "cell_type": "code",
   "execution_count": null,
   "outputs": [],
   "source": [],
   "metadata": {
    "collapsed": false
   },
   "id": "96eeaae4642d3c31"
  },
  {
   "cell_type": "code",
   "execution_count": null,
   "outputs": [],
   "source": [],
   "metadata": {
    "collapsed": false
   },
   "id": "472a62ef336d58a1"
  },
  {
   "cell_type": "code",
   "execution_count": null,
   "outputs": [],
   "source": [],
   "metadata": {
    "collapsed": false
   },
   "id": "f99b17f6e1f94a01"
  },
  {
   "cell_type": "code",
   "execution_count": null,
   "outputs": [],
   "source": [],
   "metadata": {
    "collapsed": false
   },
   "id": "4a2f2bfbeb2ae66b"
  },
  {
   "cell_type": "code",
   "execution_count": null,
   "outputs": [],
   "source": [],
   "metadata": {
    "collapsed": false
   },
   "id": "e07688e4ceb86d05"
  },
  {
   "cell_type": "code",
   "execution_count": null,
   "outputs": [],
   "source": [],
   "metadata": {
    "collapsed": false
   },
   "id": "b0e1a21b6a1f8556"
  },
  {
   "cell_type": "code",
   "execution_count": null,
   "outputs": [],
   "source": [],
   "metadata": {
    "collapsed": false
   },
   "id": "e53a736ef7532601"
  },
  {
   "cell_type": "code",
   "execution_count": null,
   "outputs": [],
   "source": [],
   "metadata": {
    "collapsed": false
   },
   "id": "e277ded6b0428389"
  },
  {
   "cell_type": "code",
   "execution_count": null,
   "outputs": [],
   "source": [],
   "metadata": {
    "collapsed": false
   },
   "id": "6545fc47affda976"
  }
 ],
 "metadata": {
  "kernelspec": {
   "display_name": "Python 3",
   "language": "python",
   "name": "python3"
  },
  "language_info": {
   "codemirror_mode": {
    "name": "ipython",
    "version": 2
   },
   "file_extension": ".py",
   "mimetype": "text/x-python",
   "name": "python",
   "nbconvert_exporter": "python",
   "pygments_lexer": "ipython2",
   "version": "2.7.6"
  }
 },
 "nbformat": 4,
 "nbformat_minor": 5
}
