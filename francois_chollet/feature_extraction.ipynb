{
 "cells": [
  {
   "cell_type": "code",
   "execution_count": 1,
   "outputs": [],
   "source": [
    "from IPython.core.interactiveshell import InteractiveShell\n",
    "InteractiveShell.ast_node_interactivity = \"all\""
   ],
   "metadata": {
    "collapsed": false,
    "ExecuteTime": {
     "end_time": "2023-08-18T00:17:33.172465603Z",
     "start_time": "2023-08-18T00:17:33.119172864Z"
    }
   },
   "id": "1cd4e3059c48bcbb"
  },
  {
   "cell_type": "code",
   "execution_count": 2,
   "id": "initial_id",
   "metadata": {
    "collapsed": true,
    "ExecuteTime": {
     "end_time": "2023-08-18T00:17:33.892987559Z",
     "start_time": "2023-08-18T00:17:33.119312411Z"
    }
   },
   "outputs": [
    {
     "name": "stderr",
     "output_type": "stream",
     "text": [
      "2023-08-18 05:47:33.111444: I tensorflow/core/platform/cpu_feature_guard.cc:193] This TensorFlow binary is optimized with oneAPI Deep Neural Network Library (oneDNN) to use the following CPU instructions in performance-critical operations:  AVX2 AVX_VNNI FMA\n",
      "To enable them in other operations, rebuild TensorFlow with the appropriate compiler flags.\n",
      "2023-08-18 05:47:33.191351: I tensorflow/core/util/util.cc:169] oneDNN custom operations are on. You may see slightly different numerical results due to floating-point round-off errors from different computation orders. To turn them off, set the environment variable `TF_ENABLE_ONEDNN_OPTS=0`.\n",
      "2023-08-18 05:47:33.209467: E tensorflow/stream_executor/cuda/cuda_blas.cc:2981] Unable to register cuBLAS factory: Attempting to register factory for plugin cuBLAS when one has already been registered\n",
      "2023-08-18 05:47:33.536166: W tensorflow/stream_executor/platform/default/dso_loader.cc:64] Could not load dynamic library 'libnvinfer.so.7'; dlerror: libnvinfer.so.7: cannot open shared object file: No such file or directory; LD_LIBRARY_PATH: /home/karvsmech/miniconda3/envs/tf/lib/:/home/karvsmech/miniconda3/envs/tf/lib/python3.9/site-packages/nvidia/cudnn/lib:\n",
      "2023-08-18 05:47:33.536215: W tensorflow/stream_executor/platform/default/dso_loader.cc:64] Could not load dynamic library 'libnvinfer_plugin.so.7'; dlerror: libnvinfer_plugin.so.7: cannot open shared object file: No such file or directory; LD_LIBRARY_PATH: /home/karvsmech/miniconda3/envs/tf/lib/:/home/karvsmech/miniconda3/envs/tf/lib/python3.9/site-packages/nvidia/cudnn/lib:\n",
      "2023-08-18 05:47:33.536219: W tensorflow/compiler/tf2tensorrt/utils/py_utils.cc:38] TF-TRT Warning: Cannot dlopen some TensorRT libraries. If you would like to use Nvidia GPU with TensorRT, please make sure the missing libraries mentioned above are installed properly.\n"
     ]
    }
   ],
   "source": [
    "# feature extraction, creating models that reuse intermediate features from another model.\n",
    "\n",
    "import tensorflow as tf\n",
    "\n",
    "from tensorflow import keras\n",
    "from tensorflow.keras import layers"
   ]
  },
  {
   "cell_type": "code",
   "execution_count": 3,
   "outputs": [],
   "source": [
    "vocabulary_size = 10000\n",
    "num_tags = 100\n",
    "num_department = 4"
   ],
   "metadata": {
    "collapsed": false,
    "ExecuteTime": {
     "end_time": "2023-08-18T00:17:33.901652283Z",
     "start_time": "2023-08-18T00:17:33.893414342Z"
    }
   },
   "id": "3dc6b2ba8f3fd318"
  },
  {
   "cell_type": "code",
   "execution_count": 4,
   "outputs": [
    {
     "name": "stderr",
     "output_type": "stream",
     "text": [
      "2023-08-18 05:47:33.959785: I tensorflow/stream_executor/cuda/cuda_gpu_executor.cc:980] successful NUMA node read from SysFS had negative value (-1), but there must be at least one NUMA node, so returning NUMA node zero\n",
      "2023-08-18 05:47:33.965072: I tensorflow/stream_executor/cuda/cuda_gpu_executor.cc:980] successful NUMA node read from SysFS had negative value (-1), but there must be at least one NUMA node, so returning NUMA node zero\n",
      "2023-08-18 05:47:33.965181: I tensorflow/stream_executor/cuda/cuda_gpu_executor.cc:980] successful NUMA node read from SysFS had negative value (-1), but there must be at least one NUMA node, so returning NUMA node zero\n",
      "2023-08-18 05:47:33.965474: I tensorflow/core/platform/cpu_feature_guard.cc:193] This TensorFlow binary is optimized with oneAPI Deep Neural Network Library (oneDNN) to use the following CPU instructions in performance-critical operations:  AVX2 AVX_VNNI FMA\n",
      "To enable them in other operations, rebuild TensorFlow with the appropriate compiler flags.\n",
      "2023-08-18 05:47:33.966447: I tensorflow/stream_executor/cuda/cuda_gpu_executor.cc:980] successful NUMA node read from SysFS had negative value (-1), but there must be at least one NUMA node, so returning NUMA node zero\n",
      "2023-08-18 05:47:33.966522: I tensorflow/stream_executor/cuda/cuda_gpu_executor.cc:980] successful NUMA node read from SysFS had negative value (-1), but there must be at least one NUMA node, so returning NUMA node zero\n",
      "2023-08-18 05:47:33.966563: I tensorflow/stream_executor/cuda/cuda_gpu_executor.cc:980] successful NUMA node read from SysFS had negative value (-1), but there must be at least one NUMA node, so returning NUMA node zero\n",
      "2023-08-18 05:47:34.343187: I tensorflow/stream_executor/cuda/cuda_gpu_executor.cc:980] successful NUMA node read from SysFS had negative value (-1), but there must be at least one NUMA node, so returning NUMA node zero\n",
      "2023-08-18 05:47:34.343307: I tensorflow/stream_executor/cuda/cuda_gpu_executor.cc:980] successful NUMA node read from SysFS had negative value (-1), but there must be at least one NUMA node, so returning NUMA node zero\n",
      "2023-08-18 05:47:34.343357: I tensorflow/stream_executor/cuda/cuda_gpu_executor.cc:980] successful NUMA node read from SysFS had negative value (-1), but there must be at least one NUMA node, so returning NUMA node zero\n",
      "2023-08-18 05:47:34.343413: I tensorflow/core/common_runtime/gpu/gpu_device.cc:1616] Created device /job:localhost/replica:0/task:0/device:GPU:0 with 9696 MB memory:  -> device: 0, name: NVIDIA GeForce RTX 3060, pci bus id: 0000:01:00.0, compute capability: 8.6\n"
     ]
    }
   ],
   "source": [
    "# building input symbolic tensors for 3 inputs using functional API\n",
    "title = keras.Input(shape=(vocabulary_size), name='title')\n",
    "text_body = keras.Input(shape=(vocabulary_size), name='text_body')\n",
    "tags = keras.Input(shape=(num_tags), name='tags')\n",
    "\n",
    "# concatenationg the layers\n",
    "features = layers.Concatenate()([title, text_body, tags])\n",
    "features = layers.Dense(64, activation='relu')(features)\n",
    "\n",
    "# creating 2 output layers\n",
    "priority = layers.Dense(1, activation='sigmoid', name='priority')(features)\n",
    "department = layers.Dense(num_department, activation='softmax', name='department')(features)\n",
    "model = keras.Model(inputs=[title, text_body, tags], outputs=[priority, department])"
   ],
   "metadata": {
    "collapsed": false,
    "ExecuteTime": {
     "end_time": "2023-08-18T00:17:34.470695995Z",
     "start_time": "2023-08-18T00:17:33.895618267Z"
    }
   },
   "id": "b0987fb7f408efbe"
  },
  {
   "cell_type": "code",
   "execution_count": 5,
   "outputs": [
    {
     "name": "stdout",
     "output_type": "stream",
     "text": [
      "Model: \"model\"\n",
      "__________________________________________________________________________________________________\n",
      " Layer (type)                   Output Shape         Param #     Connected to                     \n",
      "==================================================================================================\n",
      " title (InputLayer)             [(None, 10000)]      0           []                               \n",
      "                                                                                                  \n",
      " text_body (InputLayer)         [(None, 10000)]      0           []                               \n",
      "                                                                                                  \n",
      " tags (InputLayer)              [(None, 100)]        0           []                               \n",
      "                                                                                                  \n",
      " concatenate (Concatenate)      (None, 20100)        0           ['title[0][0]',                  \n",
      "                                                                  'text_body[0][0]',              \n",
      "                                                                  'tags[0][0]']                   \n",
      "                                                                                                  \n",
      " dense (Dense)                  (None, 64)           1286464     ['concatenate[0][0]']            \n",
      "                                                                                                  \n",
      " priority (Dense)               (None, 1)            65          ['dense[0][0]']                  \n",
      "                                                                                                  \n",
      " department (Dense)             (None, 4)            260         ['dense[0][0]']                  \n",
      "                                                                                                  \n",
      "==================================================================================================\n",
      "Total params: 1,286,789\n",
      "Trainable params: 1,286,789\n",
      "Non-trainable params: 0\n",
      "__________________________________________________________________________________________________\n"
     ]
    }
   ],
   "source": [
    "# printing model summary\n",
    "model.summary()"
   ],
   "metadata": {
    "collapsed": false,
    "ExecuteTime": {
     "end_time": "2023-08-18T00:17:40.532974019Z",
     "start_time": "2023-08-18T00:17:40.484009884Z"
    }
   },
   "id": "8a100179493ae96f"
  },
  {
   "cell_type": "code",
   "execution_count": 6,
   "outputs": [
    {
     "data": {
      "text/plain": "[<keras.engine.input_layer.InputLayer at 0x7f0b4a198cd0>,\n <keras.engine.input_layer.InputLayer at 0x7f0b4a198d30>,\n <keras.engine.input_layer.InputLayer at 0x7f0b4a195df0>,\n <keras.layers.merging.concatenate.Concatenate at 0x7f0b4a195bb0>,\n <keras.layers.core.dense.Dense at 0x7f0b4a18adf0>,\n <keras.layers.core.dense.Dense at 0x7f0b4b591850>,\n <keras.layers.core.dense.Dense at 0x7f0b498f0a30>]"
     },
     "execution_count": 6,
     "metadata": {},
     "output_type": "execute_result"
    }
   ],
   "source": [
    "# getting the layers involved in the model as a list.\n",
    "model.layers"
   ],
   "metadata": {
    "collapsed": false,
    "ExecuteTime": {
     "end_time": "2023-08-18T00:17:43.089488555Z",
     "start_time": "2023-08-18T00:17:43.076152100Z"
    }
   },
   "id": "63ee8ec7ed27ca6e"
  },
  {
   "cell_type": "code",
   "execution_count": 10,
   "outputs": [
    {
     "name": "stdout",
     "output_type": "stream",
     "text": [
      "first layer Input and Output\n"
     ]
    },
    {
     "data": {
      "text/plain": "<KerasTensor: shape=(None, 10000) dtype=float32 (created by layer 'title')>"
     },
     "execution_count": 10,
     "metadata": {},
     "output_type": "execute_result"
    },
    {
     "data": {
      "text/plain": "<KerasTensor: shape=(None, 10000) dtype=float32 (created by layer 'title')>"
     },
     "execution_count": 10,
     "metadata": {},
     "output_type": "execute_result"
    },
    {
     "name": "stdout",
     "output_type": "stream",
     "text": [
      "Second layer Input and Output\n"
     ]
    },
    {
     "data": {
      "text/plain": "<KerasTensor: shape=(None, 10000) dtype=float32 (created by layer 'text_body')>"
     },
     "execution_count": 10,
     "metadata": {},
     "output_type": "execute_result"
    },
    {
     "data": {
      "text/plain": "<KerasTensor: shape=(None, 10000) dtype=float32 (created by layer 'text_body')>"
     },
     "execution_count": 10,
     "metadata": {},
     "output_type": "execute_result"
    },
    {
     "name": "stdout",
     "output_type": "stream",
     "text": [
      "Third layer Input and Output\n"
     ]
    },
    {
     "data": {
      "text/plain": "<KerasTensor: shape=(None, 100) dtype=float32 (created by layer 'tags')>"
     },
     "execution_count": 10,
     "metadata": {},
     "output_type": "execute_result"
    },
    {
     "data": {
      "text/plain": "<KerasTensor: shape=(None, 100) dtype=float32 (created by layer 'tags')>"
     },
     "execution_count": 10,
     "metadata": {},
     "output_type": "execute_result"
    },
    {
     "name": "stdout",
     "output_type": "stream",
     "text": [
      "Fourth layer Input and Output\n"
     ]
    },
    {
     "data": {
      "text/plain": "[<KerasTensor: shape=(None, 10000) dtype=float32 (created by layer 'title')>,\n <KerasTensor: shape=(None, 10000) dtype=float32 (created by layer 'text_body')>,\n <KerasTensor: shape=(None, 100) dtype=float32 (created by layer 'tags')>]"
     },
     "execution_count": 10,
     "metadata": {},
     "output_type": "execute_result"
    },
    {
     "data": {
      "text/plain": "<KerasTensor: shape=(None, 20100) dtype=float32 (created by layer 'concatenate')>"
     },
     "execution_count": 10,
     "metadata": {},
     "output_type": "execute_result"
    },
    {
     "name": "stdout",
     "output_type": "stream",
     "text": [
      "Fifth layer Input and Output\n"
     ]
    },
    {
     "data": {
      "text/plain": "<KerasTensor: shape=(None, 20100) dtype=float32 (created by layer 'concatenate')>"
     },
     "execution_count": 10,
     "metadata": {},
     "output_type": "execute_result"
    },
    {
     "data": {
      "text/plain": "<KerasTensor: shape=(None, 64) dtype=float32 (created by layer 'dense')>"
     },
     "execution_count": 10,
     "metadata": {},
     "output_type": "execute_result"
    },
    {
     "name": "stdout",
     "output_type": "stream",
     "text": [
      "Sixth layer Input and Output\n"
     ]
    },
    {
     "data": {
      "text/plain": "<KerasTensor: shape=(None, 64) dtype=float32 (created by layer 'dense')>"
     },
     "execution_count": 10,
     "metadata": {},
     "output_type": "execute_result"
    },
    {
     "data": {
      "text/plain": "<KerasTensor: shape=(None, 1) dtype=float32 (created by layer 'priority')>"
     },
     "execution_count": 10,
     "metadata": {},
     "output_type": "execute_result"
    },
    {
     "name": "stdout",
     "output_type": "stream",
     "text": [
      "Seventh layer Input and Output\n"
     ]
    },
    {
     "data": {
      "text/plain": "<KerasTensor: shape=(None, 64) dtype=float32 (created by layer 'dense')>"
     },
     "execution_count": 10,
     "metadata": {},
     "output_type": "execute_result"
    },
    {
     "data": {
      "text/plain": "<KerasTensor: shape=(None, 4) dtype=float32 (created by layer 'department')>"
     },
     "execution_count": 10,
     "metadata": {},
     "output_type": "execute_result"
    }
   ],
   "source": [
    "# checking the input and output of each layers\n",
    "layers_lst = model.layers\n",
    "\n",
    "# first layer (Input pass through layer)\n",
    "print('first layer Input and Output')\n",
    "layers_lst[0].input\n",
    "layers_lst[0].output\n",
    "\n",
    "# second layer (Input pass through layer)\n",
    "print('Second layer Input and Output')\n",
    "layers_lst[1].input\n",
    "layers_lst[1].output\n",
    "\n",
    "# third layer (Input pass through layer)\n",
    "print('Third layer Input and Output')\n",
    "layers_lst[2].input\n",
    "layers_lst[2].output\n",
    "\n",
    "# fourth layer\n",
    "print('Fourth layer Input and Output')\n",
    "layers_lst[3].input\n",
    "layers_lst[3].output\n",
    "\n",
    "# fifth layer\n",
    "print('Fifth layer Input and Output')\n",
    "layers_lst[4].input\n",
    "layers_lst[4].output\n",
    "\n",
    "# sixth layer\n",
    "print('Sixth layer Input and Output')\n",
    "layers_lst[5].input\n",
    "layers_lst[5].output\n",
    "\n",
    "# seventh layer\n",
    "print('Seventh layer Input and Output')\n",
    "layers_lst[6].input\n",
    "layers_lst[6].output"
   ],
   "metadata": {
    "collapsed": false,
    "ExecuteTime": {
     "end_time": "2023-08-18T00:22:45.276885140Z",
     "start_time": "2023-08-18T00:22:45.214371412Z"
    }
   },
   "id": "38df4fa7009d59a"
  },
  {
   "cell_type": "code",
   "execution_count": null,
   "outputs": [],
   "source": [],
   "metadata": {
    "collapsed": false
   },
   "id": "9b87f96e3909449a"
  }
 ],
 "metadata": {
  "kernelspec": {
   "display_name": "Python 3",
   "language": "python",
   "name": "python3"
  },
  "language_info": {
   "codemirror_mode": {
    "name": "ipython",
    "version": 2
   },
   "file_extension": ".py",
   "mimetype": "text/x-python",
   "name": "python",
   "nbconvert_exporter": "python",
   "pygments_lexer": "ipython2",
   "version": "2.7.6"
  }
 },
 "nbformat": 4,
 "nbformat_minor": 5
}
